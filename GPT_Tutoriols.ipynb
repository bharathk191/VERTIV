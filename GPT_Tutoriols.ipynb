{
  "nbformat": 4,
  "nbformat_minor": 0,
  "metadata": {
    "colab": {
      "provenance": [],
      "authorship_tag": "ABX9TyOanLyxwD0ZYD2/9frpSpcB",
      "include_colab_link": true
    },
    "kernelspec": {
      "name": "python3",
      "display_name": "Python 3"
    },
    "language_info": {
      "name": "python"
    }
  },
  "cells": [
    {
      "cell_type": "markdown",
      "metadata": {
        "id": "view-in-github",
        "colab_type": "text"
      },
      "source": [
        "<a href=\"https://colab.research.google.com/github/bharathk191/VERTIV/blob/main/GPT_Tutoriols.ipynb\" target=\"_parent\"><img src=\"https://colab.research.google.com/assets/colab-badge.svg\" alt=\"Open In Colab\"/></a>"
      ]
    },
    {
      "cell_type": "markdown",
      "source": [
        "**1. Data Types and Operations**\n",
        "\n",
        "    Strings: Methods, formatting, slicing.\n",
        "    Lists: Methods, list comprehensions, slicing.\n",
        "    Tuples: Immutability, usage.\n",
        "    Dictionaries: Key-value pairs, methods, comprehensions.\n",
        "    Sets: Uniqueness, operations, methods.\n",
        "\n",
        "**2. Control Flow**\n",
        "\n",
        "    Conditionals: if, elif, else.\n",
        "    Loops: for, while.\n",
        "    Comprehensions: List comprehensions, dictionary comprehensions.\n",
        "**3. Functions**\n",
        "\n",
        "    Defining Functions: Parameters, return values.\n",
        "    Lambda Functions: Anonymous functions.\n",
        "    Decorators: Enhancing functions.\n",
        "**4. Modules and Packages**\n",
        "\n",
        "    Importing: Built-in and custom modules.\n",
        "    Creating Packages: Structuring code.\n",
        "**5. File Handling**\n",
        "\n",
        "    Reading/Writing Files: Text and binary files.\n",
        "    Handling Exceptions: try, except, finally.\n",
        "**6. Object-Oriented Programming**\n",
        "\n",
        "    Classes and Objects: Defining classes, creating objects.\n",
        "    Inheritance: Extending classes.\n",
        "    Polymorphism: Method overriding.\n",
        "**7. Advanced Topics**\n",
        "\n",
        "    Decorators: Enhancing functions.\n",
        "    Generators and Iterators: Efficient looping.\n",
        "    Concurrency: Threads, asyncio.\n",
        "**8. Working with Libraries**\n",
        "\n",
        "    Data Manipulation: pandas, numpy.\n",
        "    Web Development: Flask, Django.\n",
        "    Data Visualization: matplotlib, seaborn."
      ],
      "metadata": {
        "id": "7hM8hJRfaAzu"
      }
    },
    {
      "cell_type": "code",
      "execution_count": 4,
      "metadata": {
        "id": "af0bR3zKZ5kj",
        "colab": {
          "base_uri": "https://localhost:8080/"
        },
        "outputId": "31ad672f-38c7-4d0a-e633-60ef90a97ee5"
      },
      "outputs": [
        {
          "output_type": "stream",
          "name": "stdout",
          "text": [
            "BharathKumarKonderi\n",
            "BharathKumarKonderi is 30 Years Old\n",
            "BharathKumarKonderi is 30 Years OldBharathKumarKonderi is 30 Years OldBharathKumarKonderi is 30 Years OldBharathKumarKonderi is 30 Years OldBharathKumarKonderi is 30 Years Old\n"
          ]
        }
      ],
      "source": [
        "#Concatenation\n",
        "\n",
        "first_name = \"Bharath\"\n",
        "middle_name = \"Kumar\"\n",
        "last_name = \"Konderi\"\n",
        "age = 30\n",
        "full_name = first_name + middle_name + last_name\n",
        "print(full_name)\n",
        "repetition_var = full_name + \" is \" + str(age) +\" Years Old\"\n",
        "print(full_name + \" is \" + str(age) +\" Years Old\")\n",
        "print(repetition_var * 5)"
      ]
    },
    {
      "cell_type": "code",
      "source": [
        "#Slicing:\n"
      ],
      "metadata": {
        "id": "sLvo_OFmUf5V"
      },
      "execution_count": null,
      "outputs": []
    }
  ]
}